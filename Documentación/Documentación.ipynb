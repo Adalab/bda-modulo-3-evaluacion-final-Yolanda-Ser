{
 "cells": [
  {
   "cell_type": "markdown",
   "metadata": {},
   "source": [
    "## CSV Customer Flight Activity\n",
    "\n",
    "\n",
    "A pesar de haber valores duplicados en la columna de Loyalty Number, no se pueden anular. Hay datos en otras columnas diferentes, no son filas totalmente iguales.\n",
    "\n",
    "\n",
    "Columnas modificadas int --> float. Unificación de tipo debido al concepto del dato:\n",
    "\n",
    "Distance: Se refiere a Km, millas.\n",
    "\n",
    "Points Reedmed: Al tener la columna Points Acumulated tipo float, he unificado concepto de puntos. \n",
    "\n",
    "Dollar cost Points Redeemed : Moneda con lo cual tiene decimales. \n",
    "\n",
    "\n",
    "\n",
    "## CSV Customer Loyalty History\n",
    "\n",
    "Salary tiene valores negativos, no veo relación con otras columnas con lo que tiene que ser un error el signo negativo, cambio a positivo.\n",
    "\n",
    "Existen nulos en 3 columnas:\n",
    "\n",
    "Salary : Explorando el df, detecto que son los mismos que en Education, la categoria de College con lo que he rellenado estos nulos con la media entre la categoria inferior y superior a College.\n",
    "\n",
    "Cancellation Year y Cancellation Month, tienen el mismo valor, son correctas por la correlación del concepto pero no no se puede cumplimentar \n",
    "\n",
    "\n",
    "\n",
    "\n",
    "\n",
    " "
   ]
  }
 ],
 "metadata": {
  "language_info": {
   "name": "python"
  }
 },
 "nbformat": 4,
 "nbformat_minor": 2
}
